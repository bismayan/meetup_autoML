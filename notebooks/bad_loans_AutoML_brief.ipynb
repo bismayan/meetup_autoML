{
 "cells": [
  {
   "cell_type": "markdown",
   "metadata": {},
   "source": [
    "We outline the basic steps required to run the AutoML module for the bad loans dataset. Not that the most important step is to make sure the target variable (bad_loan) column is a factor and not a numeric Column. This tells AutoML that it has to perform a classification task and not Regression"
   ]
  },
  {
   "cell_type": "code",
   "execution_count": 13,
   "metadata": {
    "collapsed": true
   },
   "outputs": [],
   "source": [
    "import h2o\n",
    "from h2o.automl import H2OAutoML"
   ]
  },
  {
   "cell_type": "code",
   "execution_count": 14,
   "metadata": {},
   "outputs": [
    {
     "name": "stdout",
     "output_type": "stream",
     "text": [
      "Checking whether there is an H2O instance running at http://localhost:54321..... not found.\n",
      "Attempting to start a local H2O server...\n",
      "  Java Version: java version \"1.8.0_131\"; Java(TM) SE Runtime Environment (build 1.8.0_131-b11); Java HotSpot(TM) 64-Bit Server VM (build 25.131-b11, mixed mode)\n",
      "  Starting server from /usr/local/lib/python2.7/site-packages/h2o/backend/bin/h2o.jar\n",
      "  Ice root: /var/folders/_b/9bszm2y96fq9yx53tsmh_c_40000gn/T/tmpEGuMlo\n",
      "  JVM stdout: /var/folders/_b/9bszm2y96fq9yx53tsmh_c_40000gn/T/tmpEGuMlo/h2o_bismayan_started_from_python.out\n",
      "  JVM stderr: /var/folders/_b/9bszm2y96fq9yx53tsmh_c_40000gn/T/tmpEGuMlo/h2o_bismayan_started_from_python.err\n",
      "  Server is running at http://127.0.0.1:54321\n",
      "Connecting to H2O server at http://127.0.0.1:54321... successful.\n"
     ]
    },
    {
     "data": {
      "text/html": [
       "<div style=\"overflow:auto\"><table style=\"width:50%\"><tr><td>H2O cluster uptime:</td>\n",
       "<td>02 secs</td></tr>\n",
       "<tr><td>H2O cluster version:</td>\n",
       "<td>3.14.0.6</td></tr>\n",
       "<tr><td>H2O cluster version age:</td>\n",
       "<td>3 days </td></tr>\n",
       "<tr><td>H2O cluster name:</td>\n",
       "<td>H2O_from_python_bismayan_gsbqpq</td></tr>\n",
       "<tr><td>H2O cluster total nodes:</td>\n",
       "<td>1</td></tr>\n",
       "<tr><td>H2O cluster free memory:</td>\n",
       "<td>3.556 Gb</td></tr>\n",
       "<tr><td>H2O cluster total cores:</td>\n",
       "<td>4</td></tr>\n",
       "<tr><td>H2O cluster allowed cores:</td>\n",
       "<td>4</td></tr>\n",
       "<tr><td>H2O cluster status:</td>\n",
       "<td>accepting new members, healthy</td></tr>\n",
       "<tr><td>H2O connection url:</td>\n",
       "<td>http://127.0.0.1:54321</td></tr>\n",
       "<tr><td>H2O connection proxy:</td>\n",
       "<td>None</td></tr>\n",
       "<tr><td>H2O internal security:</td>\n",
       "<td>False</td></tr>\n",
       "<tr><td>H2O API Extensions:</td>\n",
       "<td>XGBoost, Algos, AutoML, Core V3, Core V4</td></tr>\n",
       "<tr><td>Python version:</td>\n",
       "<td>2.7.13 final</td></tr></table></div>"
      ],
      "text/plain": [
       "--------------------------  ----------------------------------------\n",
       "H2O cluster uptime:         02 secs\n",
       "H2O cluster version:        3.14.0.6\n",
       "H2O cluster version age:    3 days\n",
       "H2O cluster name:           H2O_from_python_bismayan_gsbqpq\n",
       "H2O cluster total nodes:    1\n",
       "H2O cluster free memory:    3.556 Gb\n",
       "H2O cluster total cores:    4\n",
       "H2O cluster allowed cores:  4\n",
       "H2O cluster status:         accepting new members, healthy\n",
       "H2O connection url:         http://127.0.0.1:54321\n",
       "H2O connection proxy:\n",
       "H2O internal security:      False\n",
       "H2O API Extensions:         XGBoost, Algos, AutoML, Core V3, Core V4\n",
       "Python version:             2.7.13 final\n",
       "--------------------------  ----------------------------------------"
      ]
     },
     "metadata": {},
     "output_type": "display_data"
    }
   ],
   "source": [
    "h2o.init()"
   ]
  },
  {
   "cell_type": "code",
   "execution_count": 15,
   "metadata": {},
   "outputs": [
    {
     "name": "stdout",
     "output_type": "stream",
     "text": [
      "Parse progress: |█████████████████████████████████████████████████████████| 100%\n"
     ]
    }
   ],
   "source": [
    "data=h2o.import_file(\"./datasets/bad_loans/bad_loans.csv\")"
   ]
  },
  {
   "cell_type": "code",
   "execution_count": 17,
   "metadata": {},
   "outputs": [
    {
     "name": "stdout",
     "output_type": "stream",
     "text": [
      "Rows:163987\n",
      "Cols:15\n",
      "\n",
      "\n"
     ]
    },
    {
     "data": {
      "text/html": [
       "<table>\n",
       "<thead>\n",
       "<tr><th>       </th><th>loan_amnt    </th><th>term     </th><th>int_rate     </th><th>emp_length  </th><th>home_ownership  </th><th>annual_inc   </th><th>purpose           </th><th>addr_state  </th><th>dti          </th><th>delinq_2yrs   </th><th>revol_util   </th><th>total_acc    </th><th>bad_loan      </th><th>longest_credit_length  </th><th>verification_status  </th></tr>\n",
       "</thead>\n",
       "<tbody>\n",
       "<tr><td>type   </td><td>int          </td><td>enum     </td><td>real         </td><td>int         </td><td>enum            </td><td>real         </td><td>enum              </td><td>enum        </td><td>real         </td><td>int           </td><td>real         </td><td>int          </td><td>int           </td><td>int                    </td><td>enum                 </td></tr>\n",
       "<tr><td>mins   </td><td>500.0        </td><td>         </td><td>5.42         </td><td>0.0         </td><td>                </td><td>1896.0       </td><td>                  </td><td>            </td><td>0.0          </td><td>0.0           </td><td>0.0          </td><td>1.0          </td><td>0.0           </td><td>0.0                    </td><td>                     </td></tr>\n",
       "<tr><td>mean   </td><td>13074.1691415</td><td>         </td><td>13.7159040656</td><td>5.684352933 </td><td>                </td><td>71915.6705197</td><td>                  </td><td>            </td><td>15.8815301213</td><td>0.227357006063</td><td>54.0791728024</td><td>24.5797338343</td><td>0.183038899425</td><td>14.8542736554          </td><td>                     </td></tr>\n",
       "<tr><td>maxs   </td><td>35000.0      </td><td>         </td><td>26.06        </td><td>10.0        </td><td>                </td><td>7141778.0    </td><td>                  </td><td>            </td><td>39.99        </td><td>29.0          </td><td>150.7        </td><td>118.0        </td><td>1.0           </td><td>65.0                   </td><td>                     </td></tr>\n",
       "<tr><td>sigma  </td><td>7993.55618873</td><td>         </td><td>4.39193987055</td><td>3.6106637311</td><td>                </td><td>59070.9156549</td><td>                  </td><td>            </td><td>7.58766822419</td><td>0.694167922928</td><td>25.2853667668</td><td>11.6851903659</td><td>0.386699589608</td><td>6.94773292255          </td><td>                     </td></tr>\n",
       "<tr><td>zeros  </td><td>0            </td><td>         </td><td>0            </td><td>14248       </td><td>                </td><td>0            </td><td>                  </td><td>            </td><td>270          </td><td>139459        </td><td>1562         </td><td>0            </td><td>133971        </td><td>11                     </td><td>                     </td></tr>\n",
       "<tr><td>missing</td><td>0            </td><td>0        </td><td>0            </td><td>5804        </td><td>0               </td><td>4            </td><td>0                 </td><td>0           </td><td>0            </td><td>29            </td><td>193          </td><td>29           </td><td>0             </td><td>29                     </td><td>0                    </td></tr>\n",
       "<tr><td>0      </td><td>5000.0       </td><td>36 months</td><td>10.65        </td><td>10.0        </td><td>RENT            </td><td>24000.0      </td><td>credit_card       </td><td>AZ          </td><td>27.65        </td><td>0.0           </td><td>83.7         </td><td>9.0          </td><td>0.0           </td><td>26.0                   </td><td>verified             </td></tr>\n",
       "<tr><td>1      </td><td>2500.0       </td><td>60 months</td><td>15.27        </td><td>0.0         </td><td>RENT            </td><td>30000.0      </td><td>car               </td><td>GA          </td><td>1.0          </td><td>0.0           </td><td>9.4          </td><td>4.0          </td><td>1.0           </td><td>12.0                   </td><td>verified             </td></tr>\n",
       "<tr><td>2      </td><td>2400.0       </td><td>36 months</td><td>15.96        </td><td>10.0        </td><td>RENT            </td><td>12252.0      </td><td>small_business    </td><td>IL          </td><td>8.72         </td><td>0.0           </td><td>98.5         </td><td>10.0         </td><td>0.0           </td><td>10.0                   </td><td>not verified         </td></tr>\n",
       "<tr><td>3      </td><td>10000.0      </td><td>36 months</td><td>13.49        </td><td>10.0        </td><td>RENT            </td><td>49200.0      </td><td>other             </td><td>CA          </td><td>20.0         </td><td>0.0           </td><td>21.0         </td><td>37.0         </td><td>0.0           </td><td>15.0                   </td><td>verified             </td></tr>\n",
       "<tr><td>4      </td><td>5000.0       </td><td>36 months</td><td>7.9          </td><td>3.0         </td><td>RENT            </td><td>36000.0      </td><td>wedding           </td><td>AZ          </td><td>11.2         </td><td>0.0           </td><td>28.3         </td><td>12.0         </td><td>0.0           </td><td>7.0                    </td><td>verified             </td></tr>\n",
       "<tr><td>5      </td><td>3000.0       </td><td>36 months</td><td>18.64        </td><td>9.0         </td><td>RENT            </td><td>48000.0      </td><td>car               </td><td>CA          </td><td>5.35         </td><td>0.0           </td><td>87.5         </td><td>4.0          </td><td>0.0           </td><td>4.0                    </td><td>verified             </td></tr>\n",
       "<tr><td>6      </td><td>5600.0       </td><td>60 months</td><td>21.28        </td><td>4.0         </td><td>OWN             </td><td>40000.0      </td><td>small_business    </td><td>CA          </td><td>5.55         </td><td>0.0           </td><td>32.6         </td><td>13.0         </td><td>1.0           </td><td>7.0                    </td><td>verified             </td></tr>\n",
       "<tr><td>7      </td><td>5375.0       </td><td>60 months</td><td>12.69        </td><td>0.0         </td><td>RENT            </td><td>15000.0      </td><td>other             </td><td>TX          </td><td>18.08        </td><td>0.0           </td><td>36.5         </td><td>3.0          </td><td>1.0           </td><td>7.0                    </td><td>verified             </td></tr>\n",
       "<tr><td>8      </td><td>6500.0       </td><td>60 months</td><td>14.65        </td><td>5.0         </td><td>OWN             </td><td>72000.0      </td><td>debt_consolidation</td><td>AZ          </td><td>16.12        </td><td>0.0           </td><td>20.6         </td><td>23.0         </td><td>0.0           </td><td>13.0                   </td><td>not verified         </td></tr>\n",
       "<tr><td>9      </td><td>12000.0      </td><td>36 months</td><td>12.69        </td><td>10.0        </td><td>OWN             </td><td>75000.0      </td><td>debt_consolidation</td><td>CA          </td><td>10.78        </td><td>0.0           </td><td>67.1         </td><td>34.0         </td><td>0.0           </td><td>22.0                   </td><td>verified             </td></tr>\n",
       "</tbody>\n",
       "</table>"
      ]
     },
     "metadata": {},
     "output_type": "display_data"
    }
   ],
   "source": [
    "data.describe()"
   ]
  },
  {
   "cell_type": "code",
   "execution_count": 22,
   "metadata": {
    "collapsed": true
   },
   "outputs": [],
   "source": [
    "data[\"bad_loan\"]=data[\"bad_loan\"].asfactor()"
   ]
  },
  {
   "cell_type": "code",
   "execution_count": 23,
   "metadata": {
    "collapsed": true
   },
   "outputs": [],
   "source": [
    "train_split,valid_split,test_split=data.split_frame(ratios=[0.7,0.15],destination_frames=[\"train_split\",\"valid_split\",\"test_split\"],seed=42)"
   ]
  },
  {
   "cell_type": "code",
   "execution_count": 24,
   "metadata": {
    "collapsed": true
   },
   "outputs": [],
   "source": [
    "aml_bad=H2OAutoML(max_runtime_secs=900)"
   ]
  },
  {
   "cell_type": "code",
   "execution_count": 25,
   "metadata": {
    "scrolled": true
   },
   "outputs": [
    {
     "name": "stdout",
     "output_type": "stream",
     "text": [
      "AutoML progress: |████████████████████████████████████████████████████████| 100%\n",
      "Parse progress: |█████████████████████████████████████████████████████████| 100%\n"
     ]
    }
   ],
   "source": [
    "aml_bad.train(y=\"bad_loan\",training_frame=train_split,validation_frame=valid_split,leaderboard_frame=test_split)"
   ]
  },
  {
   "cell_type": "code",
   "execution_count": 26,
   "metadata": {},
   "outputs": [
    {
     "data": {
      "text/html": [
       "<table>\n",
       "<thead>\n",
       "<tr><th>model_id                                 </th><th style=\"text-align: right;\">     auc</th><th style=\"text-align: right;\">  logloss</th></tr>\n",
       "</thead>\n",
       "<tbody>\n",
       "<tr><td>StackedEnsemble_0_AutoML_20171013_200644 </td><td style=\"text-align: right;\">0.707382</td><td style=\"text-align: right;\"> 0.436571</td></tr>\n",
       "<tr><td>GBM_grid_0_AutoML_20171013_200644_model_1</td><td style=\"text-align: right;\">0.704882</td><td style=\"text-align: right;\"> 0.435156</td></tr>\n",
       "<tr><td>GBM_grid_0_AutoML_20171013_200644_model_0</td><td style=\"text-align: right;\">0.704049</td><td style=\"text-align: right;\"> 0.435401</td></tr>\n",
       "<tr><td>GBM_grid_1_AutoML_20171013_200644_model_0</td><td style=\"text-align: right;\">0.70295 </td><td style=\"text-align: right;\"> 0.454604</td></tr>\n",
       "<tr><td>GLM_grid_0_AutoML_20171013_200644_model_0</td><td style=\"text-align: right;\">0.701571</td><td style=\"text-align: right;\"> 0.431834</td></tr>\n",
       "<tr><td>GBM_grid_0_AutoML_20171013_200644_model_2</td><td style=\"text-align: right;\">0.701279</td><td style=\"text-align: right;\"> 0.436592</td></tr>\n",
       "<tr><td>DeepLearning_0_AutoML_20171013_200644    </td><td style=\"text-align: right;\">0.70099 </td><td style=\"text-align: right;\"> 0.444625</td></tr>\n",
       "<tr><td>GLM_grid_0_AutoML_20171013_200644_model_1</td><td style=\"text-align: right;\">0.699922</td><td style=\"text-align: right;\"> 0.437028</td></tr>\n",
       "<tr><td>GBM_grid_0_AutoML_20171013_200644_model_3</td><td style=\"text-align: right;\">0.696973</td><td style=\"text-align: right;\"> 0.439267</td></tr>\n",
       "<tr><td>GBM_grid_0_AutoML_20171013_200644_model_4</td><td style=\"text-align: right;\">0.695698</td><td style=\"text-align: right;\"> 0.439505</td></tr>\n",
       "</tbody>\n",
       "</table>"
      ]
     },
     "metadata": {},
     "output_type": "display_data"
    },
    {
     "data": {
      "text/plain": []
     },
     "execution_count": 26,
     "metadata": {},
     "output_type": "execute_result"
    }
   ],
   "source": [
    "aml_bad.leaderboard"
   ]
  },
  {
   "cell_type": "code",
   "execution_count": 12,
   "metadata": {
    "collapsed": true
   },
   "outputs": [],
   "source": [
    "h2o.cluster().shutdown()"
   ]
  },
  {
   "cell_type": "code",
   "execution_count": null,
   "metadata": {
    "collapsed": true
   },
   "outputs": [],
   "source": []
  }
 ],
 "metadata": {
  "kernelspec": {
   "display_name": "Python 2",
   "language": "python",
   "name": "python2"
  },
  "language_info": {
   "codemirror_mode": {
    "name": "ipython",
    "version": 2
   },
   "file_extension": ".py",
   "mimetype": "text/x-python",
   "name": "python",
   "nbconvert_exporter": "python",
   "pygments_lexer": "ipython2",
   "version": "2.7.13"
  }
 },
 "nbformat": 4,
 "nbformat_minor": 2
}
