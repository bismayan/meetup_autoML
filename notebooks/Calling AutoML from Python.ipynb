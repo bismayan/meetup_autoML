{
 "cells": [
  {
   "cell_type": "markdown",
   "metadata": {},
   "source": [
    "In this Notebook we show how to use the Python API to call the AutoML module."
   ]
  },
  {
   "cell_type": "code",
   "execution_count": 1,
   "metadata": {
    "collapsed": true
   },
   "outputs": [],
   "source": [
    "import h2o\n",
    "from h2o.automl import H2OAutoML"
   ]
  },
  {
   "cell_type": "code",
   "execution_count": 2,
   "metadata": {},
   "outputs": [
    {
     "name": "stdout",
     "output_type": "stream",
     "text": [
      "Checking whether there is an H2O instance running at http://localhost:54321..... not found.\n",
      "Attempting to start a local H2O server...\n",
      "  Java Version: java version \"1.8.0_131\"; Java(TM) SE Runtime Environment (build 1.8.0_131-b11); Java HotSpot(TM) 64-Bit Server VM (build 25.131-b11, mixed mode)\n",
      "  Starting server from /usr/local/lib/python2.7/site-packages/h2o/backend/bin/h2o.jar\n",
      "  Ice root: /var/folders/_b/9bszm2y96fq9yx53tsmh_c_40000gn/T/tmp8pYBis\n",
      "  JVM stdout: /var/folders/_b/9bszm2y96fq9yx53tsmh_c_40000gn/T/tmp8pYBis/h2o_bismayan_started_from_python.out\n",
      "  JVM stderr: /var/folders/_b/9bszm2y96fq9yx53tsmh_c_40000gn/T/tmp8pYBis/h2o_bismayan_started_from_python.err\n",
      "  Server is running at http://127.0.0.1:54321\n",
      "Connecting to H2O server at http://127.0.0.1:54321... successful.\n"
     ]
    },
    {
     "data": {
      "text/html": [
       "<div style=\"overflow:auto\"><table style=\"width:50%\"><tr><td>H2O cluster uptime:</td>\n",
       "<td>02 secs</td></tr>\n",
       "<tr><td>H2O cluster version:</td>\n",
       "<td>3.14.0.6</td></tr>\n",
       "<tr><td>H2O cluster version age:</td>\n",
       "<td>3 days </td></tr>\n",
       "<tr><td>H2O cluster name:</td>\n",
       "<td>H2O_from_python_bismayan_h64eo5</td></tr>\n",
       "<tr><td>H2O cluster total nodes:</td>\n",
       "<td>1</td></tr>\n",
       "<tr><td>H2O cluster free memory:</td>\n",
       "<td>3.556 Gb</td></tr>\n",
       "<tr><td>H2O cluster total cores:</td>\n",
       "<td>4</td></tr>\n",
       "<tr><td>H2O cluster allowed cores:</td>\n",
       "<td>4</td></tr>\n",
       "<tr><td>H2O cluster status:</td>\n",
       "<td>accepting new members, healthy</td></tr>\n",
       "<tr><td>H2O connection url:</td>\n",
       "<td>http://127.0.0.1:54321</td></tr>\n",
       "<tr><td>H2O connection proxy:</td>\n",
       "<td>None</td></tr>\n",
       "<tr><td>H2O internal security:</td>\n",
       "<td>False</td></tr>\n",
       "<tr><td>H2O API Extensions:</td>\n",
       "<td>XGBoost, Algos, AutoML, Core V3, Core V4</td></tr>\n",
       "<tr><td>Python version:</td>\n",
       "<td>2.7.13 final</td></tr></table></div>"
      ],
      "text/plain": [
       "--------------------------  ----------------------------------------\n",
       "H2O cluster uptime:         02 secs\n",
       "H2O cluster version:        3.14.0.6\n",
       "H2O cluster version age:    3 days\n",
       "H2O cluster name:           H2O_from_python_bismayan_h64eo5\n",
       "H2O cluster total nodes:    1\n",
       "H2O cluster free memory:    3.556 Gb\n",
       "H2O cluster total cores:    4\n",
       "H2O cluster allowed cores:  4\n",
       "H2O cluster status:         accepting new members, healthy\n",
       "H2O connection url:         http://127.0.0.1:54321\n",
       "H2O connection proxy:\n",
       "H2O internal security:      False\n",
       "H2O API Extensions:         XGBoost, Algos, AutoML, Core V3, Core V4\n",
       "Python version:             2.7.13 final\n",
       "--------------------------  ----------------------------------------"
      ]
     },
     "metadata": {},
     "output_type": "display_data"
    }
   ],
   "source": [
    "h2o.init()"
   ]
  },
  {
   "cell_type": "code",
   "execution_count": 18,
   "metadata": {},
   "outputs": [
    {
     "name": "stdout",
     "output_type": "stream",
     "text": [
      "Parse progress: |█████████████████████████████████████████████████████████| 100%\n",
      "Parse progress: |█████████████████████████████████████████████████████████| 100%\n"
     ]
    }
   ],
   "source": [
    "train=h2o.import_file(\"./datasets/house_price/train.csv\")\n",
    "test=h2o.import_file(\"./datasets/house_price/test.csv\")"
   ]
  },
  {
   "cell_type": "code",
   "execution_count": 64,
   "metadata": {
    "collapsed": true
   },
   "outputs": [],
   "source": [
    "train[\"MSSubClass\"]=train[\"MSSubClass\"].asfactor()\n",
    "test[\"MSSubClass\"]=test[\"MSSubClass\"].asfactor()"
   ]
  },
  {
   "cell_type": "code",
   "execution_count": 65,
   "metadata": {
    "collapsed": true,
    "scrolled": true
   },
   "outputs": [],
   "source": [
    "train_split,valid_split=train.split_frame(ratios=[0.8],destination_frames=[\"train_split\",\"valid_split\"],seed=42)"
   ]
  },
  {
   "cell_type": "code",
   "execution_count": null,
   "metadata": {
    "collapsed": true
   },
   "outputs": [],
   "source": []
  },
  {
   "cell_type": "code",
   "execution_count": 66,
   "metadata": {
    "collapsed": true
   },
   "outputs": [],
   "source": [
    "train_dropped=train_split.drop(\"Id\")\n",
    "valid_dropped=valid_split.drop(\"Id\")\n",
    "test_dropped=test.drop(\"Id\")"
   ]
  },
  {
   "cell_type": "code",
   "execution_count": 29,
   "metadata": {
    "collapsed": true
   },
   "outputs": [],
   "source": []
  },
  {
   "cell_type": "code",
   "execution_count": 38,
   "metadata": {
    "collapsed": true
   },
   "outputs": [],
   "source": [
    "aml=H2OAutoML(max_runtime_secs=1200,seed=42)"
   ]
  },
  {
   "cell_type": "code",
   "execution_count": 39,
   "metadata": {},
   "outputs": [
    {
     "name": "stdout",
     "output_type": "stream",
     "text": [
      "AutoML progress: |████████████████████████████████████████████████████████| 100%\n",
      "Parse progress: |█████████████████████████████████████████████████████████| 100%\n"
     ]
    }
   ],
   "source": [
    "aml.train(y=\"SalePrice\",training_frame=train_dropped,validation_frame=valid_dropped)"
   ]
  },
  {
   "cell_type": "code",
   "execution_count": 48,
   "metadata": {
    "collapsed": true
   },
   "outputs": [],
   "source": [
    "leaderboard=aml.leaderboard.as_data_frame()"
   ]
  },
  {
   "cell_type": "code",
   "execution_count": 51,
   "metadata": {},
   "outputs": [
    {
     "data": {
      "text/html": [
       "<div>\n",
       "<style>\n",
       "    .dataframe thead tr:only-child th {\n",
       "        text-align: right;\n",
       "    }\n",
       "\n",
       "    .dataframe thead th {\n",
       "        text-align: left;\n",
       "    }\n",
       "\n",
       "    .dataframe tbody tr th {\n",
       "        vertical-align: top;\n",
       "    }\n",
       "</style>\n",
       "<table border=\"1\" class=\"dataframe\">\n",
       "  <thead>\n",
       "    <tr style=\"text-align: right;\">\n",
       "      <th></th>\n",
       "      <th>model_id</th>\n",
       "      <th>mean_residual_deviance</th>\n",
       "      <th>rmse</th>\n",
       "      <th>mae</th>\n",
       "      <th>rmsle</th>\n",
       "    </tr>\n",
       "  </thead>\n",
       "  <tbody>\n",
       "    <tr>\n",
       "      <th>12</th>\n",
       "      <td>GBM_grid_1_AutoML_20171013_131913_model_18</td>\n",
       "      <td>5.889605e+08</td>\n",
       "      <td>24268.508002</td>\n",
       "      <td>15845.437470</td>\n",
       "      <td>0.130045</td>\n",
       "    </tr>\n",
       "    <tr>\n",
       "      <th>13</th>\n",
       "      <td>GBM_grid_1_AutoML_20171013_171802_model_18</td>\n",
       "      <td>5.889605e+08</td>\n",
       "      <td>24268.508002</td>\n",
       "      <td>15845.437470</td>\n",
       "      <td>0.130045</td>\n",
       "    </tr>\n",
       "    <tr>\n",
       "      <th>0</th>\n",
       "      <td>GBM_grid_1_AutoML_20171013_131913_model_19</td>\n",
       "      <td>5.109260e+08</td>\n",
       "      <td>22603.671712</td>\n",
       "      <td>15794.038696</td>\n",
       "      <td>0.132134</td>\n",
       "    </tr>\n",
       "    <tr>\n",
       "      <th>1</th>\n",
       "      <td>GBM_grid_1_AutoML_20171013_171802_model_19</td>\n",
       "      <td>5.109260e+08</td>\n",
       "      <td>22603.671712</td>\n",
       "      <td>15794.038696</td>\n",
       "      <td>0.132134</td>\n",
       "    </tr>\n",
       "    <tr>\n",
       "      <th>8</th>\n",
       "      <td>GBM_grid_1_AutoML_20171013_131913_model_25</td>\n",
       "      <td>5.677595e+08</td>\n",
       "      <td>23827.704473</td>\n",
       "      <td>15876.755267</td>\n",
       "      <td>0.132242</td>\n",
       "    </tr>\n",
       "    <tr>\n",
       "      <th>9</th>\n",
       "      <td>GBM_grid_1_AutoML_20171013_171802_model_25</td>\n",
       "      <td>5.677595e+08</td>\n",
       "      <td>23827.704473</td>\n",
       "      <td>15876.755267</td>\n",
       "      <td>0.132242</td>\n",
       "    </tr>\n",
       "    <tr>\n",
       "      <th>18</th>\n",
       "      <td>DL_grid_0_AutoML_20171013_171802_model_2</td>\n",
       "      <td>6.169514e+08</td>\n",
       "      <td>24838.506531</td>\n",
       "      <td>15998.366713</td>\n",
       "      <td>0.133543</td>\n",
       "    </tr>\n",
       "    <tr>\n",
       "      <th>20</th>\n",
       "      <td>GBM_grid_1_AutoML_20171013_171802_model_26</td>\n",
       "      <td>6.195810e+08</td>\n",
       "      <td>24891.384425</td>\n",
       "      <td>16400.816557</td>\n",
       "      <td>0.135548</td>\n",
       "    </tr>\n",
       "    <tr>\n",
       "      <th>19</th>\n",
       "      <td>GBM_grid_1_AutoML_20171013_131913_model_26</td>\n",
       "      <td>6.195810e+08</td>\n",
       "      <td>24891.384425</td>\n",
       "      <td>16400.816557</td>\n",
       "      <td>0.135548</td>\n",
       "    </tr>\n",
       "    <tr>\n",
       "      <th>17</th>\n",
       "      <td>GBM_grid_1_AutoML_20171013_131913_model_5</td>\n",
       "      <td>5.996621e+08</td>\n",
       "      <td>24487.999255</td>\n",
       "      <td>16561.792192</td>\n",
       "      <td>0.135669</td>\n",
       "    </tr>\n",
       "  </tbody>\n",
       "</table>\n",
       "</div>"
      ],
      "text/plain": [
       "                                      model_id  mean_residual_deviance  \\\n",
       "12  GBM_grid_1_AutoML_20171013_131913_model_18            5.889605e+08   \n",
       "13  GBM_grid_1_AutoML_20171013_171802_model_18            5.889605e+08   \n",
       "0   GBM_grid_1_AutoML_20171013_131913_model_19            5.109260e+08   \n",
       "1   GBM_grid_1_AutoML_20171013_171802_model_19            5.109260e+08   \n",
       "8   GBM_grid_1_AutoML_20171013_131913_model_25            5.677595e+08   \n",
       "9   GBM_grid_1_AutoML_20171013_171802_model_25            5.677595e+08   \n",
       "18    DL_grid_0_AutoML_20171013_171802_model_2            6.169514e+08   \n",
       "20  GBM_grid_1_AutoML_20171013_171802_model_26            6.195810e+08   \n",
       "19  GBM_grid_1_AutoML_20171013_131913_model_26            6.195810e+08   \n",
       "17   GBM_grid_1_AutoML_20171013_131913_model_5            5.996621e+08   \n",
       "\n",
       "            rmse           mae     rmsle  \n",
       "12  24268.508002  15845.437470  0.130045  \n",
       "13  24268.508002  15845.437470  0.130045  \n",
       "0   22603.671712  15794.038696  0.132134  \n",
       "1   22603.671712  15794.038696  0.132134  \n",
       "8   23827.704473  15876.755267  0.132242  \n",
       "9   23827.704473  15876.755267  0.132242  \n",
       "18  24838.506531  15998.366713  0.133543  \n",
       "20  24891.384425  16400.816557  0.135548  \n",
       "19  24891.384425  16400.816557  0.135548  \n",
       "17  24487.999255  16561.792192  0.135669  "
      ]
     },
     "execution_count": 51,
     "metadata": {},
     "output_type": "execute_result"
    }
   ],
   "source": [
    "leaderboard.sort_values(by=\"rmsle\").head(10)"
   ]
  },
  {
   "cell_type": "code",
   "execution_count": 53,
   "metadata": {
    "collapsed": true
   },
   "outputs": [
    {
     "name": "stdout",
     "output_type": "stream",
     "text": [
      "gbm prediction progress: |████████████████████████████████████████████████| 100%\n"
     ]
    },
    {
     "name": "stderr",
     "output_type": "stream",
     "text": [
      "/usr/local/lib/python2.7/site-packages/h2o/job.py:69: UserWarning: Test/Validation dataset column 'MSSubClass' has levels not trained on: [150]\n",
      "  warnings.warn(w)\n",
      "/usr/local/lib/python2.7/site-packages/h2o/job.py:69: UserWarning: Test/Validation dataset column 'MSZoning' has levels not trained on: [NA]\n",
      "  warnings.warn(w)\n",
      "/usr/local/lib/python2.7/site-packages/h2o/job.py:69: UserWarning: Test/Validation dataset column 'Utilities' has levels not trained on: [NA]\n",
      "  warnings.warn(w)\n",
      "/usr/local/lib/python2.7/site-packages/h2o/job.py:69: UserWarning: Test/Validation dataset column 'Exterior1st' has levels not trained on: [NA]\n",
      "  warnings.warn(w)\n",
      "/usr/local/lib/python2.7/site-packages/h2o/job.py:69: UserWarning: Test/Validation dataset column 'Exterior2nd' has levels not trained on: [NA]\n",
      "  warnings.warn(w)\n",
      "/usr/local/lib/python2.7/site-packages/h2o/job.py:69: UserWarning: Test/Validation dataset column 'KitchenQual' has levels not trained on: [NA]\n",
      "  warnings.warn(w)\n",
      "/usr/local/lib/python2.7/site-packages/h2o/job.py:69: UserWarning: Test/Validation dataset column 'Functional' has levels not trained on: [NA]\n",
      "  warnings.warn(w)\n",
      "/usr/local/lib/python2.7/site-packages/h2o/job.py:69: UserWarning: Test/Validation dataset column 'SaleType' has levels not trained on: [NA]\n",
      "  warnings.warn(w)\n"
     ]
    }
   ],
   "source": [
    "pred_leader=aml.leader.predict(test_dropped)"
   ]
  },
  {
   "cell_type": "code",
   "execution_count": 60,
   "metadata": {},
   "outputs": [
    {
     "data": {
      "text/plain": [
       "u'/Users/bismayan/h2o-3.14.0.6/automl_600_sec/GBM_grid_1_AutoML_20171013_131913_model_19'"
      ]
     },
     "execution_count": 60,
     "metadata": {},
     "output_type": "execute_result"
    }
   ],
   "source": [
    "h2o.save_model(aml.leader,'./automl_600_sec')"
   ]
  },
  {
   "cell_type": "code",
   "execution_count": 56,
   "metadata": {
    "collapsed": true
   },
   "outputs": [],
   "source": [
    "leader_test_comb=test.cbind(pred_leader).as_data_frame()"
   ]
  },
  {
   "cell_type": "code",
   "execution_count": 58,
   "metadata": {
    "collapsed": true
   },
   "outputs": [],
   "source": [
    "leader_test_comb[[\"Id\",\"predict\"]].rename(columns={\"predict\":\"SalePrice\"}).to_csv(\"new_csv.csv\",index=False)"
   ]
  },
  {
   "cell_type": "code",
   "execution_count": 71,
   "metadata": {
    "collapsed": true
   },
   "outputs": [],
   "source": [
    "aml2=H2OAutoML(max_runtime_secs=1500,seed=42)"
   ]
  },
  {
   "cell_type": "code",
   "execution_count": 73,
   "metadata": {
    "scrolled": true
   },
   "outputs": [
    {
     "name": "stdout",
     "output_type": "stream",
     "text": [
      "AutoML progress: |████████████████████████████████████████████████████████| 100%\n",
      "Parse progress: |█████████████████████████████████████████████████████████| 100%\n"
     ]
    }
   ],
   "source": [
    "aml2.train(y=\"SalePrice\",training_frame=train_dropped,validation_frame=valid_dropped)"
   ]
  },
  {
   "cell_type": "code",
   "execution_count": 74,
   "metadata": {},
   "outputs": [
    {
     "data": {
      "text/html": [
       "<div>\n",
       "<style>\n",
       "    .dataframe thead tr:only-child th {\n",
       "        text-align: right;\n",
       "    }\n",
       "\n",
       "    .dataframe thead th {\n",
       "        text-align: left;\n",
       "    }\n",
       "\n",
       "    .dataframe tbody tr th {\n",
       "        vertical-align: top;\n",
       "    }\n",
       "</style>\n",
       "<table border=\"1\" class=\"dataframe\">\n",
       "  <thead>\n",
       "    <tr style=\"text-align: right;\">\n",
       "      <th></th>\n",
       "      <th>model_id</th>\n",
       "      <th>mean_residual_deviance</th>\n",
       "      <th>rmse</th>\n",
       "      <th>mae</th>\n",
       "      <th>rmsle</th>\n",
       "    </tr>\n",
       "  </thead>\n",
       "  <tbody>\n",
       "    <tr>\n",
       "      <th>13</th>\n",
       "      <td>GBM_grid_1_AutoML_20171013_181731_model_18</td>\n",
       "      <td>5.889605e+08</td>\n",
       "      <td>24268.508002</td>\n",
       "      <td>15845.437470</td>\n",
       "      <td>0.130045</td>\n",
       "    </tr>\n",
       "    <tr>\n",
       "      <th>12</th>\n",
       "      <td>GBM_grid_1_AutoML_20171013_190835_model_18</td>\n",
       "      <td>5.889605e+08</td>\n",
       "      <td>24268.508002</td>\n",
       "      <td>15845.437470</td>\n",
       "      <td>0.130045</td>\n",
       "    </tr>\n",
       "    <tr>\n",
       "      <th>0</th>\n",
       "      <td>GBM_grid_1_AutoML_20171013_181731_model_19</td>\n",
       "      <td>5.109260e+08</td>\n",
       "      <td>22603.671712</td>\n",
       "      <td>15794.038696</td>\n",
       "      <td>0.132134</td>\n",
       "    </tr>\n",
       "    <tr>\n",
       "      <th>1</th>\n",
       "      <td>GBM_grid_1_AutoML_20171013_190835_model_19</td>\n",
       "      <td>5.109260e+08</td>\n",
       "      <td>22603.671712</td>\n",
       "      <td>15794.038696</td>\n",
       "      <td>0.132134</td>\n",
       "    </tr>\n",
       "    <tr>\n",
       "      <th>9</th>\n",
       "      <td>GBM_grid_1_AutoML_20171013_190835_model_25</td>\n",
       "      <td>5.677595e+08</td>\n",
       "      <td>23827.704473</td>\n",
       "      <td>15876.755267</td>\n",
       "      <td>0.132242</td>\n",
       "    </tr>\n",
       "    <tr>\n",
       "      <th>8</th>\n",
       "      <td>GBM_grid_1_AutoML_20171013_181731_model_25</td>\n",
       "      <td>5.677595e+08</td>\n",
       "      <td>23827.704473</td>\n",
       "      <td>15876.755267</td>\n",
       "      <td>0.132242</td>\n",
       "    </tr>\n",
       "    <tr>\n",
       "      <th>29</th>\n",
       "      <td>DeepLearning_0_AutoML_20171013_181731</td>\n",
       "      <td>6.672074e+08</td>\n",
       "      <td>25830.358294</td>\n",
       "      <td>16719.594431</td>\n",
       "      <td>0.132687</td>\n",
       "    </tr>\n",
       "    <tr>\n",
       "      <th>26</th>\n",
       "      <td>DL_grid_0_AutoML_20171013_190835_model_2</td>\n",
       "      <td>6.408504e+08</td>\n",
       "      <td>25315.024069</td>\n",
       "      <td>15838.938474</td>\n",
       "      <td>0.134026</td>\n",
       "    </tr>\n",
       "    <tr>\n",
       "      <th>19</th>\n",
       "      <td>GBM_grid_1_AutoML_20171013_181731_model_26</td>\n",
       "      <td>6.195810e+08</td>\n",
       "      <td>24891.384425</td>\n",
       "      <td>16400.816557</td>\n",
       "      <td>0.135548</td>\n",
       "    </tr>\n",
       "    <tr>\n",
       "      <th>18</th>\n",
       "      <td>GBM_grid_1_AutoML_20171013_190835_model_26</td>\n",
       "      <td>6.195810e+08</td>\n",
       "      <td>24891.384425</td>\n",
       "      <td>16400.816557</td>\n",
       "      <td>0.135548</td>\n",
       "    </tr>\n",
       "  </tbody>\n",
       "</table>\n",
       "</div>"
      ],
      "text/plain": [
       "                                      model_id  mean_residual_deviance  \\\n",
       "13  GBM_grid_1_AutoML_20171013_181731_model_18            5.889605e+08   \n",
       "12  GBM_grid_1_AutoML_20171013_190835_model_18            5.889605e+08   \n",
       "0   GBM_grid_1_AutoML_20171013_181731_model_19            5.109260e+08   \n",
       "1   GBM_grid_1_AutoML_20171013_190835_model_19            5.109260e+08   \n",
       "9   GBM_grid_1_AutoML_20171013_190835_model_25            5.677595e+08   \n",
       "8   GBM_grid_1_AutoML_20171013_181731_model_25            5.677595e+08   \n",
       "29       DeepLearning_0_AutoML_20171013_181731            6.672074e+08   \n",
       "26    DL_grid_0_AutoML_20171013_190835_model_2            6.408504e+08   \n",
       "19  GBM_grid_1_AutoML_20171013_181731_model_26            6.195810e+08   \n",
       "18  GBM_grid_1_AutoML_20171013_190835_model_26            6.195810e+08   \n",
       "\n",
       "            rmse           mae     rmsle  \n",
       "13  24268.508002  15845.437470  0.130045  \n",
       "12  24268.508002  15845.437470  0.130045  \n",
       "0   22603.671712  15794.038696  0.132134  \n",
       "1   22603.671712  15794.038696  0.132134  \n",
       "9   23827.704473  15876.755267  0.132242  \n",
       "8   23827.704473  15876.755267  0.132242  \n",
       "29  25830.358294  16719.594431  0.132687  \n",
       "26  25315.024069  15838.938474  0.134026  \n",
       "19  24891.384425  16400.816557  0.135548  \n",
       "18  24891.384425  16400.816557  0.135548  "
      ]
     },
     "execution_count": 74,
     "metadata": {},
     "output_type": "execute_result"
    }
   ],
   "source": [
    "leaderboard2=aml2.leaderboard.as_data_frame()\n",
    "leaderboard2.sort_values(by=\"rmsle\").head(10)"
   ]
  },
  {
   "cell_type": "code",
   "execution_count": null,
   "metadata": {
    "collapsed": true
   },
   "outputs": [],
   "source": []
  }
 ],
 "metadata": {
  "kernelspec": {
   "display_name": "Python 2",
   "language": "python",
   "name": "python2"
  },
  "language_info": {
   "codemirror_mode": {
    "name": "ipython",
    "version": 2
   },
   "file_extension": ".py",
   "mimetype": "text/x-python",
   "name": "python",
   "nbconvert_exporter": "python",
   "pygments_lexer": "ipython2",
   "version": "2.7.13"
  }
 },
 "nbformat": 4,
 "nbformat_minor": 2
}
